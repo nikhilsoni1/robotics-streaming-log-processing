{
 "cells": [
  {
   "cell_type": "code",
   "execution_count": 1,
   "metadata": {},
   "outputs": [],
   "source": [
    "import time\n",
    "import pulsar\n",
    "import producer_app.files.schema_exec_pb2 as schema_exec_pb2\n",
    "import producer_app.files.schema_sensor_health_pb2 as schema_sensor_health_pb2\n",
    "from google.protobuf.timestamp_pb2 import Timestamp\n",
    "from mcap_protobuf.writer import Writer\n",
    "import random\n",
    "import io\n",
    "import pyarrow as pa\n",
    "import pyarrow.parquet as pq\n",
    "from mcap_protobuf.decoder import DecoderFactory\n",
    "from mcap.reader import make_reader\n",
    "from google.protobuf.json_format import MessageToDict\n",
    "from datetime import datetime\n",
    "from uuid import uuid4\n",
    "import os\n",
    "import threading\n",
    "import influxdb_client\n",
    "from influxdb_client import InfluxDBClient, Point, WritePrecision\n",
    "from influxdb_client.client.write_api import SYNCHRONOUS\n",
    "from mcap.exceptions import RecordLengthLimitExceeded, EndOfFile\n"
   ]
  },
  {
   "cell_type": "code",
   "execution_count": 2,
   "metadata": {},
   "outputs": [],
   "source": [
    "\n",
    "def generate_mcap(file_path: str):\n",
    "    \"\"\"\n",
    "    Generates an MCAP file with synthetic data and stores it at the specified path.\n",
    "    :param file_path: Path to store the generated MCAP file.\n",
    "    \"\"\"\n",
    "    timestamp_ns = time.time_ns()\n",
    "    \n",
    "    # Create Timestamp in Protobuf Format\n",
    "    timestamp = Timestamp()\n",
    "    timestamp.seconds = timestamp_ns // 1_000_000_000\n",
    "    timestamp.nanos = timestamp_ns % 1_000_000_000\n",
    "\n",
    "    # Create Synthetic Data for the AppExec Message\n",
    "    app1 = schema_exec_pb2.AppInfo(\n",
    "        app_name=\"App1\", exec_time=random.uniform(1, 3), cpu_usage=random.uniform(1, 3)\n",
    "    )\n",
    "    app2 = schema_exec_pb2.AppInfo(\n",
    "        app_name=\"App2\", exec_time=random.uniform(1, 3), cpu_usage=random.uniform(1, 3)\n",
    "    )\n",
    "\n",
    "    app_exec_message = schema_exec_pb2.AppExec(\n",
    "        timestamp=timestamp, num_apps=2, apps=[app1, app2]\n",
    "    )\n",
    "\n",
    "    # Create Synthetic Data for the SensorHealth Message\n",
    "    sensor_health_message = schema_sensor_health_pb2.SensorHealth(\n",
    "        timestamp=timestamp,\n",
    "        num_sensors=3,\n",
    "        sensor_temps=[\n",
    "            random.uniform(20, 40),\n",
    "            random.uniform(20, 40),\n",
    "            random.uniform(20, 40),\n",
    "        ],\n",
    "    )\n",
    "\n",
    "    # Write the MCAP Log to an In-Memory Binary Stream\n",
    "    mcap_stream = io.BytesIO()\n",
    "    mcap_writer = Writer(mcap_stream)\n",
    "\n",
    "    # Writing messages\n",
    "    mcap_writer.write_message(\n",
    "        topic=\"topic/app_exec\",\n",
    "        message=app_exec_message,\n",
    "        log_time=time.time_ns(),\n",
    "        publish_time=time.time_ns(),\n",
    "    )\n",
    "    mcap_writer.write_message(\n",
    "        topic=\"topic/sensor_health\",\n",
    "        message=sensor_health_message,\n",
    "        log_time=time.time_ns(),\n",
    "        publish_time=time.time_ns(),\n",
    "    )\n",
    "    \n",
    "    mcap_writer.finish()\n",
    "    \n",
    "    # Save to file\n",
    "    with open(file_path, \"wb\") as f:\n",
    "        f.write(mcap_stream.getvalue())\n",
    "    \n",
    "    print(f\"MCAP log saved to {file_path}\")\n",
    "    \n",
    "    mcap_stream.close()\n"
   ]
  },
  {
   "cell_type": "code",
   "execution_count": 3,
   "metadata": {},
   "outputs": [
    {
     "name": "stdout",
     "output_type": "stream",
     "text": [
      "MCAP log saved to output.mcap\n"
     ]
    }
   ],
   "source": [
    "generate_mcap(\"output.mcap\")"
   ]
  },
  {
   "cell_type": "code",
   "execution_count": 4,
   "metadata": {},
   "outputs": [],
   "source": [
    "def protobuf_sensor_health_to_line_protocol(msg):\n",
    "    \"\"\"Converts a Protobuf message into a flattened dictionary format.\"\"\"\n",
    "\n",
    "    msg_dict = MessageToDict(msg)\n",
    "    ts = int(msg.timestamp.seconds * 1e9 + msg.timestamp.nanos)\n",
    "    num_sensors = msg_dict.get(\"numSensors\", 0)\n",
    "    list_of_points = list()\n",
    "    for idx, i in enumerate(msg_dict.get(\"sensorTemps\", [])):\n",
    "        point = (\n",
    "            Point(\"sensor_health\")\n",
    "            .tag(\"num_sensors\", num_sensors)\n",
    "            .tag(\"sensor_id\", idx)\n",
    "            .field(\"sensor_temp\", i)\n",
    "            .time(ts, WritePrecision.NS)\n",
    "        )\n",
    "        list_of_points.append(point)\n",
    "    return list_of_points"
   ]
  },
  {
   "cell_type": "code",
   "execution_count": 5,
   "metadata": {},
   "outputs": [],
   "source": [
    "def protobuf_app_exec_to_line_protocol(msg):\n",
    "    \"\"\"Converts a Protobuf message into a flattened dictionary format.\"\"\"\n",
    "    msg_dict = MessageToDict(msg)\n",
    "    ts = int(\n",
    "        msg.timestamp.seconds * 1e9 + msg.timestamp.nanos\n",
    "    )  # Convert Protobuf Timestamp to nanoseconds and safely typecast to int\n",
    "    num_apps = msg_dict.get(\"numApps\", 0)\n",
    "    list_of_points = list()\n",
    "    for app in msg_dict.get(\"apps\", []):\n",
    "        point = (\n",
    "            Point(\"app_exec\")\n",
    "            .tag(\"app_name\", app.get(\"appName\"))\n",
    "            .tag(\"num_apps\", num_apps)\n",
    "            .field(\"exec_time\", app.get(\"execTime\", None))\n",
    "            .field(\"cpu_usage\", app.get(\"cpuUsage\", None))\n",
    "            .time(ts, WritePrecision.NS)\n",
    "        )\n",
    "        list_of_points.append(point)\n",
    "    return list_of_points\n"
   ]
  },
  {
   "cell_type": "code",
   "execution_count": 6,
   "metadata": {},
   "outputs": [],
   "source": [
    "store = list()\n",
    "with open(\"output.mcap\", \"rb\") as f:\n",
    "    mcap_stream = io.BytesIO(f.read())\n",
    "    reader = make_reader(mcap_stream, decoder_factories=[DecoderFactory()])\n",
    "    for schema, channel, message, proto_msg in reader.iter_decoded_messages():\n",
    "        if channel.topic == \"topic/app_exec\":\n",
    "            r = protobuf_app_exec_to_line_protocol(proto_msg)\n",
    "            store += r\n",
    "        elif channel.topic == \"topic/sensor_health\":\n",
    "            r = protobuf_sensor_health_to_line_protocol(proto_msg)\n",
    "            store +=r"
   ]
  },
  {
   "cell_type": "code",
   "execution_count": 8,
   "metadata": {},
   "outputs": [
    {
     "name": "stdout",
     "output_type": "stream",
     "text": [
      "app_exec,app_name=App1,num_apps=2 cpu_usage=2.5842957901265793,exec_time=2.4047865370480617 1740690767828762880\n",
      "app_exec,app_name=App2,num_apps=2 cpu_usage=2.252740691541364,exec_time=2.171073277275747 1740690767828762880\n",
      "sensor_health,num_sensors=3,sensor_id=0 sensor_temp=32.83455491033759 1740690767828762880\n",
      "sensor_health,num_sensors=3,sensor_id=1 sensor_temp=39.548044608649214 1740690767828762880\n",
      "sensor_health,num_sensors=3,sensor_id=2 sensor_temp=32.64090362307218 1740690767828762880\n"
     ]
    }
   ],
   "source": [
    "for i in store:\n",
    "    print(i.to_line_protocol())"
   ]
  }
 ],
 "metadata": {
  "kernelspec": {
   "display_name": ".venv",
   "language": "python",
   "name": "python3"
  },
  "language_info": {
   "codemirror_mode": {
    "name": "ipython",
    "version": 3
   },
   "file_extension": ".py",
   "mimetype": "text/x-python",
   "name": "python",
   "nbconvert_exporter": "python",
   "pygments_lexer": "ipython3",
   "version": "3.10.0"
  }
 },
 "nbformat": 4,
 "nbformat_minor": 2
}
