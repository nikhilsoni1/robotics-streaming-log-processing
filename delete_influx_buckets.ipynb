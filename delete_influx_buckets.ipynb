{
 "cells": [
  {
   "cell_type": "code",
   "execution_count": 1,
   "metadata": {},
   "outputs": [],
   "source": [
    "import influxdb_client\n",
    "from influxdb_client import InfluxDBClient, Point, WritePrecision\n",
    "from influxdb_client.client.write_api import SYNCHRONOUS"
   ]
  },
  {
   "cell_type": "code",
   "execution_count": 2,
   "metadata": {},
   "outputs": [],
   "source": [
    "\n",
    "influx_url = \"http://localhost:8086\"\n",
    "influx_org = \"myorg\"\n",
    "influx_bucket = \"bucket01\"\n",
    "influx_token = \"x8ZENWA2tU4tJ3a-OWIoPWlFk5lmKppq80qLhLnDk64H6RPTewubkgX13eArWwLuYf4JREeFcZQg27aedU18_g==\""
   ]
  },
  {
   "cell_type": "code",
   "execution_count": 3,
   "metadata": {},
   "outputs": [],
   "source": [
    "client = influxdb_client.InfluxDBClient(url=influx_url, token=influx_token, org=influx_org)"
   ]
  },
  {
   "cell_type": "code",
   "execution_count": 4,
   "metadata": {},
   "outputs": [],
   "source": [
    "bucket_api = client.buckets_api()"
   ]
  },
  {
   "cell_type": "code",
   "execution_count": 10,
   "metadata": {},
   "outputs": [
    {
     "data": {
      "text/plain": [
       "{'created_at': datetime.datetime(2025, 2, 27, 20, 20, 25, 247868, tzinfo=tzutc()),\n",
       " 'description': None,\n",
       " 'id': 'dff12fad589d2ba4',\n",
       " 'labels': [],\n",
       " 'links': {'_self': '/api/v2/buckets/dff12fad589d2ba4',\n",
       "           'labels': '/api/v2/buckets/dff12fad589d2ba4/labels',\n",
       "           'members': '/api/v2/buckets/dff12fad589d2ba4/members',\n",
       "           'org': '/api/v2/orgs/ced8845edb0376bb',\n",
       "           'owners': '/api/v2/buckets/dff12fad589d2ba4/owners',\n",
       "           'write': '/api/v2/write?org=ced8845edb0376bb&bucket=dff12fad589d2ba4'},\n",
       " 'name': 'bucket01',\n",
       " 'org_id': 'ced8845edb0376bb',\n",
       " 'retention_rules': [{'every_seconds': 0,\n",
       "                      'shard_group_duration_seconds': 604800,\n",
       "                      'type': 'expire'}],\n",
       " 'rp': None,\n",
       " 'schema_type': None,\n",
       " 'type': 'user',\n",
       " 'updated_at': datetime.datetime(2025, 2, 27, 20, 20, 25, 247868, tzinfo=tzutc())}"
      ]
     },
     "execution_count": 10,
     "metadata": {},
     "output_type": "execute_result"
    }
   ],
   "source": [
    "bucket_api.find_bucket_by_name(influx_bucket)"
   ]
  },
  {
   "cell_type": "code",
   "execution_count": 11,
   "metadata": {},
   "outputs": [],
   "source": [
    "bucket_api.delete_bucket(\"dff12fad589d2ba4\")"
   ]
  },
  {
   "cell_type": "code",
   "execution_count": 14,
   "metadata": {},
   "outputs": [
    {
     "data": {
      "text/plain": [
       "{'created_at': datetime.datetime(2025, 2, 27, 22, 54, 29, 731494, tzinfo=tzutc()),\n",
       " 'description': None,\n",
       " 'id': 'ae1aa61110fa5194',\n",
       " 'labels': [],\n",
       " 'links': {'_self': '/api/v2/buckets/ae1aa61110fa5194',\n",
       "           'labels': '/api/v2/buckets/ae1aa61110fa5194/labels',\n",
       "           'members': '/api/v2/buckets/ae1aa61110fa5194/members',\n",
       "           'org': '/api/v2/orgs/ced8845edb0376bb',\n",
       "           'owners': '/api/v2/buckets/ae1aa61110fa5194/owners',\n",
       "           'write': '/api/v2/write?org=ced8845edb0376bb&bucket=ae1aa61110fa5194'},\n",
       " 'name': 'bucket01',\n",
       " 'org_id': 'ced8845edb0376bb',\n",
       " 'retention_rules': [{'every_seconds': 0,\n",
       "                      'shard_group_duration_seconds': 604800,\n",
       "                      'type': 'expire'}],\n",
       " 'rp': '0',\n",
       " 'schema_type': None,\n",
       " 'type': 'user',\n",
       " 'updated_at': datetime.datetime(2025, 2, 27, 22, 54, 29, 731495, tzinfo=tzutc())}"
      ]
     },
     "execution_count": 14,
     "metadata": {},
     "output_type": "execute_result"
    }
   ],
   "source": [
    "bucket_api.create_bucket(bucket_name=\"bucket01\",)"
   ]
  }
 ],
 "metadata": {
  "kernelspec": {
   "display_name": ".venv",
   "language": "python",
   "name": "python3"
  },
  "language_info": {
   "codemirror_mode": {
    "name": "ipython",
    "version": 3
   },
   "file_extension": ".py",
   "mimetype": "text/x-python",
   "name": "python",
   "nbconvert_exporter": "python",
   "pygments_lexer": "ipython3",
   "version": "3.10.0"
  }
 },
 "nbformat": 4,
 "nbformat_minor": 2
}
